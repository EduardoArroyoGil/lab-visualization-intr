{
 "cells": [
  {
   "cell_type": "code",
   "execution_count": 11,
   "id": "7fab6d1c",
   "metadata": {},
   "outputs": [],
   "source": [
    "import time\n",
    "def day2num(day):\n",
    "    day = str(day)[:3]\n",
    "    numday= time.strptime(day, '%a').tm_wday\n",
    "    return numday"
   ]
  },
  {
   "cell_type": "code",
   "execution_count": 12,
   "id": "f7bc71c4",
   "metadata": {},
   "outputs": [
    {
     "data": {
      "text/plain": [
       "3"
      ]
     },
     "execution_count": 12,
     "metadata": {},
     "output_type": "execute_result"
    }
   ],
   "source": [
    "day2num('Thu')"
   ]
  },
  {
   "cell_type": "code",
   "execution_count": 13,
   "id": "8d846d20",
   "metadata": {},
   "outputs": [
    {
     "data": {
      "text/plain": [
       "'Thursday'"
      ]
     },
     "execution_count": 13,
     "metadata": {},
     "output_type": "execute_result"
    }
   ],
   "source": [
    "import calendar\n",
    "calendar.day_name[day2num('Thu')]\n"
   ]
  }
 ],
 "metadata": {
  "kernelspec": {
   "display_name": "Python 3 (ipykernel)",
   "language": "python",
   "name": "python3"
  },
  "language_info": {
   "codemirror_mode": {
    "name": "ipython",
    "version": 3
   },
   "file_extension": ".py",
   "mimetype": "text/x-python",
   "name": "python",
   "nbconvert_exporter": "python",
   "pygments_lexer": "ipython3",
   "version": "3.9.7"
  }
 },
 "nbformat": 4,
 "nbformat_minor": 5
}
